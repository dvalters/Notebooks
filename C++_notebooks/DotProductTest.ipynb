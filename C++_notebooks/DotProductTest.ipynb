{
 "cells": [
  {
   "cell_type": "markdown",
   "metadata": {},
   "source": [
    "# C++ Notebook example\n",
    "\n",
    "With the cling C++ interpreter, you can configure Jupyter to create C++ notebooks, in the style of Python and R notebooks. How cool is that!\n",
    "\n",
    "You will first need to install the clang compiler suite, and then cling, which is the C++ interpreter that makes use of clang. \n"
   ]
  },
  {
   "cell_type": "markdown",
   "metadata": {},
   "source": [
    "## Examples\n",
    "\n",
    "These are just some quick examples taken from the _C++ Cookbook_.\n",
    "\n",
    "### Computing the dot product\n",
    "\n",
    "The dot product is a form of the inner product known as the Euclidean Inner Product. We can compute the dot product using the `inner_product` from the numeric header file in the standard template library:"
   ]
  },
  {
   "cell_type": "code",
   "execution_count": 7,
   "metadata": {
    "collapsed": false
   },
   "outputs": [
    {
     "name": "stdout",
     "output_type": "stream",
     "text": [
      "The dot product of (1, 2, 3) ad (4, 6, 8) is 40\n"
     ]
    },
    {
     "data": {
      "text/plain": [
       "(std::basic_ostream<char, std::char_traits<char> > &) @0x7fa82fcebf40\n"
      ]
     },
     "execution_count": 7,
     "metadata": {},
     "output_type": "execute_result"
    }
   ],
   "source": [
    "#include <numeric>\n",
    "#include <iostream>\n",
    "#include <vector>\n",
    "\n",
    "int main(){}\n",
    "int v1[] = {1, 2, 3};\n",
    "int v2[] = {4, 6, 8};\n",
    "\n",
    "std::cout << \"The dot product of (1, 2, 3) ad (4, 6, 8) is \";\n",
    "std::cout << std::inner_product(v1, v1 + 3, v2, 0) << \"\\n\";"
   ]
  },
  {
   "cell_type": "markdown",
   "metadata": {},
   "source": [
    "Or we could define our own function using templates:"
   ]
  },
  {
   "cell_type": "code",
   "execution_count": 8,
   "metadata": {
    "collapsed": false
   },
   "outputs": [
    {
     "name": "stderr",
     "output_type": "stream",
     "text": [
      "\u001b[1minput_line_13:2:3: \u001b[0m\u001b[0;1;31merror: \u001b[0m\u001b[1mredefinition of 'inner_product2'\u001b[0m\n",
      "T inner_product2(In first, In last, In2 first2, T init, BinOp op, BinOp2 op2)\n",
      "\u001b[0;1;32m  ^\n",
      "\u001b[0m\u001b[1minput_line_7:2:3: \u001b[0m\u001b[0;1;30mnote: \u001b[0mprevious definition is here\u001b[0m\n",
      "T inner_product2(In first, In last, In2 first2, T init, BinOp op, BinOp2 op2)\n",
      "\u001b[0;1;32m  ^\n",
      "\u001b[0m"
     ]
    },
    {
     "ename": "ename",
     "evalue": "evalue",
     "output_type": "error",
     "traceback": []
    }
   ],
   "source": [
    "template<class In, class In2, class T, class BinOp, class BinOp2>\n",
    "T inner_product2(In first, In last, In2 first2, T init, BinOp op, BinOp2 op2)\n",
    "{\n",
    "  while (first != last)\n",
    "  {\n",
    "    BinOp(init, BinOp2(*first++, *first2++));\n",
    "  }\n",
    "  return init;\n",
    "}"
   ]
  },
  {
   "cell_type": "code",
   "execution_count": 10,
   "metadata": {
    "collapsed": false
   },
   "outputs": [
    {
     "name": "stderr",
     "output_type": "stream",
     "text": [
      "\u001b[1minput_line_15:3:5: \u001b[0m\u001b[0;1;31merror: \u001b[0m\u001b[1mredefinition of 'main'\u001b[0m\n",
      "int main(){}\n",
      "\u001b[0;1;32m    ^\n",
      "\u001b[0m\u001b[1minput_line_9:5:5: \u001b[0m\u001b[0;1;30mnote: \u001b[0mprevious definition is here\u001b[0m\n",
      "int main(){}\n",
      "\u001b[0;1;32m    ^\n",
      "\u001b[0m\u001b[1minput_line_7:6:17: \u001b[0m\u001b[0;1;31merror: \u001b[0m\u001b[1mno matching constructor for initialization of 'std::divides<int>'\u001b[0m\n",
      "    BinOp(init, BinOp2(*first++, *first2++));\n",
      "\u001b[0;1;32m                ^      ~~~~~~~~~~~~~~~~~~~\n",
      "\u001b[0m\u001b[1minput_line_15:5:15: \u001b[0m\u001b[0;1;30mnote: \u001b[0min instantiation of function template specialization 'inner_product2<int *, int *, int, std::minus<int>,\n",
      "      std::divides<int> >' requested here\u001b[0m\n",
      " std::cout << inner_product2(v1, v1 + 3, v2, 0, std::minus<int>(), std::divides<int>()) << \"\\n\"\n",
      "\u001b[0;1;32m              ^\n",
      "\u001b[0m\u001b[1m/usr/lib/gcc/x86_64-redhat-linux/7/../../../../include/c++/7/bits/stl_function.h:197:12: \u001b[0m\u001b[0;1;30mnote: \u001b[0mcandidate constructor (the implicit copy constructor) not viable: requires 1 argument, but 2 were provided\u001b[0m\n",
      "    struct divides : public binary_function<_Tp, _Tp, _Tp>\n",
      "\u001b[0;1;32m           ^\n",
      "\u001b[0m\u001b[1m/usr/lib/gcc/x86_64-redhat-linux/7/../../../../include/c++/7/bits/stl_function.h:197:12: \u001b[0m\u001b[0;1;30mnote: \u001b[0mcandidate constructor (the implicit move constructor) not viable: requires 1 argument, but 2 were provided\u001b[0m\n",
      "\u001b[1m/usr/lib/gcc/x86_64-redhat-linux/7/../../../../include/c++/7/bits/stl_function.h:197:12: \u001b[0m\u001b[0;1;30mnote: \u001b[0mcandidate constructor (the implicit default constructor) not viable: requires 0 arguments, but 2 were\n",
      "      provided\u001b[0m\n"
     ]
    },
    {
     "ename": "ename",
     "evalue": "evalue",
     "output_type": "error",
     "traceback": []
    }
   ],
   "source": [
    "#include <functional>\n",
    "\n",
    "int main(){}\n",
    "std::cout << inner_product2(v1, v1 + 3, v2, 0, std::minus<int>(), std::divides<int>()) << \"\\n\""
   ]
  },
  {
   "cell_type": "code",
   "execution_count": null,
   "metadata": {
    "collapsed": true
   },
   "outputs": [],
   "source": []
  },
  {
   "cell_type": "code",
   "execution_count": null,
   "metadata": {
    "collapsed": true
   },
   "outputs": [],
   "source": []
  }
 ],
 "metadata": {
  "kernelspec": {
   "display_name": "C++11",
   "language": "C++",
   "name": "cling-cpp11"
  },
  "language_info": {
   "codemirror_mode": "c++",
   "file_extension": ".c++",
   "mimetype": "text/x-c++src",
   "name": "c++"
  }
 },
 "nbformat": 4,
 "nbformat_minor": 2
}
