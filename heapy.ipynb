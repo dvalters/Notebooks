{
 "metadata": {
  "name": "",
  "signature": "sha256:99ec8faad9ab0759e9e71110d917f4aef303696914e83c796b71e3f0b2e4f4e1"
 },
 "nbformat": 3,
 "nbformat_minor": 0,
 "worksheets": [
  {
   "cells": [
    {
     "cell_type": "code",
     "collapsed": false,
     "input": [
      "from guppy import hpy"
     ],
     "language": "python",
     "metadata": {},
     "outputs": [],
     "prompt_number": 29
    },
    {
     "cell_type": "code",
     "collapsed": false,
     "input": [
      "hp = hpy()"
     ],
     "language": "python",
     "metadata": {},
     "outputs": [],
     "prompt_number": 30
    },
    {
     "cell_type": "code",
     "collapsed": false,
     "input": [
      "hp"
     ],
     "language": "python",
     "metadata": {},
     "outputs": [
      {
       "metadata": {},
       "output_type": "pyout",
       "prompt_number": 31,
       "text": [
        "Top level interface to Heapy.\n",
        "Use eg: hp.doc for more info on hp."
       ]
      }
     ],
     "prompt_number": 31
    },
    {
     "cell_type": "code",
     "collapsed": false,
     "input": [
      "dir(hp)"
     ],
     "language": "python",
     "metadata": {},
     "outputs": [
      {
       "metadata": {},
       "output_type": "pyout",
       "prompt_number": 32,
       "text": [
        "['Ddir',\n",
        " '__class__',\n",
        " '__delattr__',\n",
        " '__dict__',\n",
        " '__doc__',\n",
        " '__format__',\n",
        " '__getattr__',\n",
        " '__getattribute__',\n",
        " '__hash__',\n",
        " '__init__',\n",
        " '__module__',\n",
        " '__new__',\n",
        " '__reduce__',\n",
        " '__reduce_ex__',\n",
        " '__repr__',\n",
        " '__setattr__',\n",
        " '__sizeof__',\n",
        " '__str__',\n",
        " '__subclasshook__',\n",
        " '__weakref__',\n",
        " '_chgable_',\n",
        " '_dir_',\n",
        " '_doc_Anything',\n",
        " '_doc_Class',\n",
        " '_doc_Clodo',\n",
        " '_doc_Id',\n",
        " '_doc_Idset',\n",
        " '_doc_Module',\n",
        " '_doc_Nothing',\n",
        " '_doc_Rcs',\n",
        " '_doc_Size',\n",
        " '_doc_Type',\n",
        " '_doc_Unity',\n",
        " '_doc_Via',\n",
        " '_doc_findex',\n",
        " '_doc_idset',\n",
        " '_doc_iso',\n",
        " '_doc_sokind',\n",
        " '_get_Root',\n",
        " '_get_doc',\n",
        " '_get_gcobjs',\n",
        " '_get_relheap',\n",
        " '_get_relheapg',\n",
        " '_get_relheapu',\n",
        " '_get_reprefix',\n",
        " '_hiding_tag_',\n",
        " '_import',\n",
        " '_imports_',\n",
        " '_name',\n",
        " '_owner',\n",
        " '_preload_',\n",
        " '_private_',\n",
        " '_share',\n",
        " 'default_reprefix',\n",
        " 'dumph',\n",
        " 'heap',\n",
        " 'heapg',\n",
        " 'heapu',\n",
        " 'load',\n",
        " 'loadall',\n",
        " 'loadc',\n",
        " 'setref',\n",
        " 'setrelheap',\n",
        " 'setrelheapg',\n",
        " 'setrelheapu',\n",
        " 'test']"
       ]
      }
     ],
     "prompt_number": 32
    },
    {
     "cell_type": "code",
     "collapsed": false,
     "input": [
      "help(hp)"
     ],
     "language": "python",
     "metadata": {},
     "outputs": [
      {
       "output_type": "stream",
       "stream": "stdout",
       "text": [
        "Help on _GLUECLAMP_ in module guppy.heapy.Use object:\n",
        "\n",
        "class _GLUECLAMP_(guppy.etc.Glue.Interface)\n",
        " |  Method resolution order:\n",
        " |      _GLUECLAMP_\n",
        " |      guppy.etc.Glue.Interface\n",
        " |      __builtin__.object\n",
        " |  \n",
        " |  Methods defined here:\n",
        " |  \n",
        " |  Ddir(self, opts='')\n",
        " |      #OBSOLETE\n",
        " |      $HP.dir(opts: str+])-> GuppyDir\n",
        " |      $HP.dir(opts: str+]).<attribute> -> GuppyDoc\n",
        " |      \n",
        " |      A replacement for the builtin function dir(), providing a listing of\n",
        " |      public attributes for Heapy objects. It also has an attribute for each\n",
        " |      item in the listing, for example:\n",
        " |      \n",
        " |      >>> $HP.dir().heap\n",
        " |      \n",
        " |      returns a GuppyDoc object providing documentation for the heap\n",
        " |      method. The method also takes a string argument specifying further\n",
        " |      options. Currently the following are provided:\n",
        " |      \n",
        " |              'l'     Generate a listing of the synopsis lines.\n",
        " |              'L'     Generate a listing of the entire doc strings.\n",
        " |  \n",
        " |  __repr__(self)\n",
        " |  \n",
        " |  __str__ = __repr__(self)\n",
        " |  \n",
        " |  dumph(self, fn)\n",
        " |  \n",
        " |  heap(self)\n",
        " |      heap() -> IdentitySet[1]\n",
        " |      \n",
        " |      Traverse the heap from a root to find all reachable and visible\n",
        " |      objects. The objects that belong to a heapy instance are normally not\n",
        " |      included. Return an IdentitySet with the objects found, which is\n",
        " |      presented as a table partitioned according to a default equivalence\n",
        " |      relation (Clodo [3]).\n",
        " |      \n",
        " |      See also: setref[2]\n",
        " |      \n",
        " |      References\n",
        " |          [0] heapy_Use.html#heapykinds.Use.heap\n",
        " |          [1] heapy_UniSet.html#heapykinds.IdentitySet\n",
        " |          [2] heapy_Use.html#heapykinds.Use.setref\n",
        " |          [3] heapy_Use.html#heapykinds.Use.Clodo\n",
        " |  \n",
        " |  heapg(self, rma=1)\n",
        " |      DEPRECATED\n",
        " |  \n",
        " |  heapu(self, rma=1, abs=0, stat=1)\n",
        " |      heapu() -> Stat \n",
        " |      \n",
        " |      Finds the objects in the heap that remain after garbage collection but\n",
        " |      are _not_ reachable from the root.  This can be used to find objects\n",
        " |      in extension modules that remain in memory even though they are\n",
        " |      gc-collectable and not reachable.\n",
        " |      \n",
        " |      Returns an object containing a statistical summary of the objects\n",
        " |      found - not the objects themselves. This is to avoid making the\n",
        " |      objects reachable.\n",
        " |      \n",
        " |      See also: setref[1]\n",
        " |      \n",
        " |      References\n",
        " |          [0] heapy_Use.html#heapykinds.Use.heapu\n",
        " |          [1] heapy_Use.html#heapykinds.Use.setref\n",
        " |  \n",
        " |  load(self, fn, use_readline=0)\n",
        " |      load(alt:[fn: loadablefilenamestring+ or\n",
        " |                fn: loadableiterableofstrings+]\n",
        " |           [use_readline = boolean+]) -> Stat\n",
        " |      \n",
        " |      Load heapy-related data from a serialized form. Currently it handles\n",
        " |      data generated by Stat.dump.\n",
        " |      \n",
        " |      Arguments\n",
        " |          fn: loadablefilenamestring+\n",
        " |              A string argument is treated as a file name.\n",
        " |          fn: loadableiterableofstrings+\n",
        " |              An open file or an iterator will be iterated over enough\n",
        " |              to read one package of data, and another call to load\n",
        " |              will read the next package.\n",
        " |          use_readline = boolean+\n",
        " |              If true, the method will use .readline() instead of\n",
        " |              iteration, which may be necessary in case the input\n",
        " |              comes from a pipe since otherwise the Python runtime\n",
        " |              would try to read ahead a big block before returning the\n",
        " |              first package of data.\n",
        " |      Returns\n",
        " |          one package of statistical data.\n",
        " |      \n",
        " |      References\n",
        " |          [0] heapy_Use.html#heapykinds.Use.load\n",
        " |  \n",
        " |  loadall(self, f)\n",
        " |      Generates all objects from an open file f or a file named f\n",
        " |  \n",
        " |  loadc(self, fn)\n",
        " |  \n",
        " |  setref(self, reachable=None, unreachable=None)\n",
        " |      setref()\n",
        " |      \n",
        " |      Set a reference point for heap usage measurement.  This applies to\n",
        " |      both the heap[1] and heapu[2] methods. The heap() method will only\n",
        " |      show the objects allocated after the time setref was called. The\n",
        " |      heapu() method, since it deals with summary data and not actual\n",
        " |      objects, will show the difference of sizes and counts compared to when\n",
        " |      setref was called.\n",
        " |      \n",
        " |      References\n",
        " |          [0] heapy_Use.html#heapykinds.Use.setref\n",
        " |          [1] heapy_Use.html#heapykinds.Use.heap\n",
        " |          [2] heapy_Use.html#heapykinds.Use.heapu\n",
        " |  \n",
        " |  setrelheap(self, reference=None)\n",
        " |  \n",
        " |  setrelheapg(self, reference=None)\n",
        " |  \n",
        " |  setrelheapu(self, reference=None, stat=1)\n",
        " |  \n",
        " |  test(self, debug=False)\n",
        " |      test([debug: bool+ = False])\n",
        " |      \n",
        " |      Run the Heapy test suite.\n",
        " |      \n",
        " |      Argument\n",
        " |          debug\n",
        " |              If True, the tests will be run in debug mode so the stack frame\n",
        " |              can be examined with pdb.pm() after the first exception.\n",
        " |  \n",
        " |  ----------------------------------------------------------------------\n",
        " |  Data and other attributes defined here:\n",
        " |  \n",
        " |  default_reprefix = 'hpy().'\n",
        " |  \n",
        " |  ----------------------------------------------------------------------\n",
        " |  Methods inherited from guppy.etc.Glue.Interface:\n",
        " |  \n",
        " |  __getattr__(self, name)\n",
        " |  \n",
        " |  __init__(self, share, owner, name)\n",
        " |  \n",
        " |  __setattr__(self, name, value)\n",
        " |  \n",
        " |  ----------------------------------------------------------------------\n",
        " |  Data descriptors inherited from guppy.etc.Glue.Interface:\n",
        " |  \n",
        " |  __dict__\n",
        " |      dictionary for instance variables (if defined)\n",
        " |  \n",
        " |  __weakref__\n",
        " |      list of weak references to the object (if defined)\n",
        "\n"
       ]
      }
     ],
     "prompt_number": 33
    },
    {
     "cell_type": "code",
     "collapsed": false,
     "input": [
      "hp.setrelheap()"
     ],
     "language": "python",
     "metadata": {},
     "outputs": [],
     "prompt_number": 34
    },
    {
     "cell_type": "code",
     "collapsed": false,
     "input": [
      "l = list(x for x in range(10000) if x%2 == 0)"
     ],
     "language": "python",
     "metadata": {},
     "outputs": [],
     "prompt_number": 35
    },
    {
     "cell_type": "code",
     "collapsed": false,
     "input": [
      "h = hp.heap()"
     ],
     "language": "python",
     "metadata": {},
     "outputs": [],
     "prompt_number": 36
    },
    {
     "cell_type": "code",
     "collapsed": false,
     "input": [
      "h"
     ],
     "language": "python",
     "metadata": {},
     "outputs": [
      {
       "metadata": {},
       "output_type": "pyout",
       "prompt_number": 37,
       "text": [
        "Partition of a set of 5490 objects. Total size = 277952 bytes.\n",
        " Index  Count   %     Size   % Cumulative  % Kind (class / dict of class)\n",
        "     0   4871  89   116904  42    116904  42 int\n",
        "     1     43   1    46232  17    163136  59 list\n",
        "     2     95   2    40424  15    203560  73 dict (no owner)\n",
        "     3     39   1    20904   8    224464  81 dict of guppy.etc.Glue.Interface\n",
        "     4    141   3    12408   4    236872  85 __builtin__.weakref\n",
        "     5      8   0     8384   3    245256  88 dict of guppy.etc.Glue.Share\n",
        "     6     14   0     8016   3    253272  91 types.FrameType\n",
        "     7    120   2     7128   3    260400  94 str\n",
        "     8     16   0     4480   2    264880  95 dict of guppy.etc.Glue.Owner\n",
        "     9     39   1     2496   1    267376  96 guppy.etc.Glue.Interface\n",
        "<29 more rows. Type e.g. '_.more' to view.>"
       ]
      }
     ],
     "prompt_number": 37
    },
    {
     "cell_type": "code",
     "collapsed": false,
     "input": [
      "h[0]"
     ],
     "language": "python",
     "metadata": {},
     "outputs": [
      {
       "metadata": {},
       "output_type": "pyout",
       "prompt_number": 38,
       "text": [
        "Partition of a set of 4871 objects. Total size = 116904 bytes.\n",
        " Index  Count   %     Size   % Cumulative  % Kind (class / dict of class)\n",
        "     0   4871 100   116904 100    116904 100 int"
       ]
      }
     ],
     "prompt_number": 38
    },
    {
     "cell_type": "code",
     "collapsed": false,
     "input": [
      "h[1]"
     ],
     "language": "python",
     "metadata": {},
     "outputs": [
      {
       "metadata": {},
       "output_type": "pyout",
       "prompt_number": 39,
       "text": [
        "Partition of a set of 43 objects. Total size = 46232 bytes.\n",
        " Index  Count   %     Size   % Cumulative  % Kind (class / dict of class)\n",
        "     0     43 100    46232 100     46232 100 list"
       ]
      }
     ],
     "prompt_number": 39
    },
    {
     "cell_type": "code",
     "collapsed": false,
     "input": [
      "h.bytype"
     ],
     "language": "python",
     "metadata": {},
     "outputs": [
      {
       "metadata": {},
       "output_type": "pyout",
       "prompt_number": 40,
       "text": [
        "Partition of a set of 5490 objects. Total size = 277952 bytes.\n",
        " Index  Count   %     Size   % Cumulative  % Type\n",
        "     0   4871  89   116904  42    116904  42 int\n",
        "     1    161   3    76568  28    193472  70 dict\n",
        "     2     43   1    46232  17    239704  86 list\n",
        "     3    141   3    12408   4    252112  91 __builtin__.weakref\n",
        "     4     14   0     8016   3    260128  94 types.FrameType\n",
        "     5    120   2     7128   3    267256  96 str\n",
        "     6     39   1     2496   1    269752  97 guppy.etc.Glue.Interface\n",
        "     7     25   0     1800   1    271552  98 types.InstanceType\n",
        "     8     22   0     1584   1    273136  98 tuple\n",
        "     9      7   0     1008   0    274144  99 zmq.backend.cython.message.Frame\n",
        "<21 more rows. Type e.g. '_.more' to view.>"
       ]
      }
     ],
     "prompt_number": 40
    },
    {
     "cell_type": "code",
     "collapsed": false,
     "input": [
      "_.more"
     ],
     "language": "python",
     "metadata": {},
     "outputs": [
      {
       "metadata": {},
       "output_type": "pyout",
       "prompt_number": 41,
       "text": [
        " Index  Count   %     Size   % Cumulative  % Type\n",
        "    10      8   0      832   0    274976  99 unicode\n",
        "    11      7   0      560   0    275536  99 types.MethodType\n",
        "    12      4   0      480   0    276016  99 function\n",
        "    13      7   0      392   0    276408  99 __builtin__.cell\n",
        "    14      2   0      256   0    276664 100 _io.StringIO\n",
        "    15      2   0      128   0    276792 100 _ast.Module\n",
        "    16      2   0      128   0    276920 100 _ast.Name\n",
        "    17      1   0      128   0    277048 100 types.CodeType\n",
        "    18      1   0      104   0    277152 100 _sre.SRE_Match\n",
        "    19      1   0      104   0    277256 100 class\n",
        "<11 more rows. Type e.g. '_.more' to view.>"
       ]
      }
     ],
     "prompt_number": 41
    },
    {
     "cell_type": "code",
     "collapsed": false,
     "input": [
      "_.more"
     ],
     "language": "python",
     "metadata": {},
     "outputs": [
      {
       "metadata": {},
       "output_type": "pyout",
       "prompt_number": 42,
       "text": [
        " Index  Count   %     Size   % Cumulative  % Type\n",
        "    20      1   0       88   0    277344 100 guppy.heapy.UniSet.EquivalenceRelation\n",
        "    21      1   0       80   0    277424 100 types.GeneratorType\n",
        "    22      1   0       64   0    277488 100 _ast.Assign\n",
        "    23      1   0       64   0    277552 100 _ast.Attribute\n",
        "    24      1   0       64   0    277616 100 _ast.Call\n",
        "    25      1   0       64   0    277680 100 _ast.Store\n",
        "    26      1   0       64   0    277744 100 guppy.heapy.Use._GLUECLAMP_\n",
        "    27      1   0       64   0    277808 100 guppy.heapy.heapyc.ObjectClassifier\n",
        "    28      1   0       48   0    277856 100 datetime.datetime\n",
        "    29      2   0       48   0    277904 100 float\n",
        "    30      1   0       48   0    277952 100 guppy.sets.setsc.ImmNodeSet"
       ]
      }
     ],
     "prompt_number": 42
    },
    {
     "cell_type": "code",
     "collapsed": false,
     "input": [
      "h.byrcs"
     ],
     "language": "python",
     "metadata": {},
     "outputs": [
      {
       "metadata": {},
       "output_type": "pyout",
       "prompt_number": 43,
       "text": [
        "Partition of a set of 5490 objects. Total size = 279488 bytes.\n",
        " Index  Count   %     Size   % Cumulative  % Referrers by Kind (class / dict of class)\n",
        "     0   4887  89   117952  42    117952  42 list\n",
        "     1      1   0    41032  15    158984  57 dict of module\n",
        "     2    128   2    24152   9    183136  66 <Nothing>\n",
        "     3     39   1    21672   8    204808  73 guppy.etc.Glue.Interface\n",
        "     4     25   0    18344   7    223152  80 dict of guppy.etc.Glue.Share\n",
        "     5     48   1    13440   5    236592  85 dict of guppy.etc.Glue.Owner\n",
        "     6    140   3    12320   4    248912  89 guppy.heapy.heapyc.HeapView\n",
        "     7      8   0     8384   3    257296  92 guppy.etc.Glue.Share\n",
        "     8     82   1     6456   2    263752  94 dict (no owner)\n",
        "     9     16   0     4480   2    268232  96 guppy.etc.Glue.Owner\n",
        "<29 more rows. Type e.g. '_.more' to view.>"
       ]
      }
     ],
     "prompt_number": 43
    },
    {
     "cell_type": "code",
     "collapsed": false,
     "input": [
      "byrcs = _"
     ],
     "language": "python",
     "metadata": {},
     "outputs": [],
     "prompt_number": 44
    },
    {
     "cell_type": "code",
     "collapsed": false,
     "input": [
      "byrcs[5]"
     ],
     "language": "python",
     "metadata": {},
     "outputs": [
      {
       "metadata": {},
       "output_type": "pyout",
       "prompt_number": 45,
       "text": [
        "Partition of a set of 48 objects. Total size = 13440 bytes.\n",
        " Index  Count   %     Size   % Cumulative  % Referrers by Kind (class / dict of class)\n",
        "     0     48 100    13440 100     13440 100 dict of guppy.etc.Glue.Owner"
       ]
      }
     ],
     "prompt_number": 45
    },
    {
     "cell_type": "code",
     "collapsed": false,
     "input": [
      "byrcs[5].byclodo"
     ],
     "language": "python",
     "metadata": {},
     "outputs": [
      {
       "metadata": {},
       "output_type": "pyout",
       "prompt_number": 46,
       "text": [
        "Partition of a set of 48 objects. Total size = 13440 bytes.\n",
        " Index  Count   %     Size   % Cumulative  % Kind (class / dict of class)\n",
        "     0     48 100    13440 100     13440 100 dict (no owner)"
       ]
      }
     ],
     "prompt_number": 46
    },
    {
     "cell_type": "code",
     "collapsed": false,
     "input": [
      "byrcs[1].byclodo"
     ],
     "language": "python",
     "metadata": {},
     "outputs": [
      {
       "metadata": {},
       "output_type": "pyout",
       "prompt_number": 47,
       "text": [
        "Partition of a set of 1 object. Total size = 41032 bytes.\n",
        " Index  Count   %     Size   % Cumulative  % Kind (class / dict of class)\n",
        "     0      1 100    41032 100     41032 100 list"
       ]
      }
     ],
     "prompt_number": 47
    },
    {
     "cell_type": "code",
     "collapsed": false,
     "input": [
      "byrcs[0].byclodo"
     ],
     "language": "python",
     "metadata": {},
     "outputs": [
      {
       "metadata": {},
       "output_type": "pyout",
       "prompt_number": 48,
       "text": [
        "Partition of a set of 4887 objects. Total size = 117952 bytes.\n",
        " Index  Count   %     Size   % Cumulative  % Kind (class / dict of class)\n",
        "     0   4871 100   116904  99    116904  99 int\n",
        "     1     11   0      528   0    117432 100 str\n",
        "     2      4   0      448   0    117880 100 unicode\n",
        "     3      1   0       72   0    117952 100 tuple"
       ]
      }
     ],
     "prompt_number": 48
    },
    {
     "cell_type": "code",
     "collapsed": false,
     "input": [
      "byrcs[0].bysize"
     ],
     "language": "python",
     "metadata": {},
     "outputs": [
      {
       "metadata": {},
       "output_type": "pyout",
       "prompt_number": 49,
       "text": [
        "Partition of a set of 4887 objects. Total size = 117952 bytes.\n",
        " Index  Count   %     Size   % Cumulative  % Individual Size\n",
        "     0   4871 100   116904  99    116904  99        24\n",
        "     1      7   0      336   0    117240  99        48\n",
        "     2      2   0      288   0    117528 100       144\n",
        "     3      2   0      160   0    117688 100        80\n",
        "     4      2   0      112   0    117800 100        56\n",
        "     5      2   0       80   0    117880 100        40\n",
        "     6      1   0       72   0    117952 100        72"
       ]
      }
     ],
     "prompt_number": 49
    },
    {
     "cell_type": "code",
     "collapsed": false,
     "input": [
      "byrcs[0].byid"
     ],
     "language": "python",
     "metadata": {},
     "outputs": [
      {
       "metadata": {},
       "output_type": "pyout",
       "prompt_number": 50,
       "text": [
        "Set of 4887 <mixed> objects. Total size = 117952 bytes.\n",
        " Index     Size   %   Cumulative  %   Brief\n",
        "     0      144   0.1       144   0.1 unicode: u'l = li...%2 == 0)'\n",
        "     1      144   0.1       288   0.2 unicode: u'l = li... == 0)\\n'\n",
        "     2       80   0.1       368   0.3 unicode: u'h = hp.heap()'\n",
        "     3       80   0.1       448   0.4 unicode: u'h = hp.heap()\\n'\n",
        "     4       72   0.1       520   0.4 tuple: 0x386b3f8*2\n",
        "     5       56   0.0       576   0.5 str: 'OutputHandling'\n",
        "     6       56   0.0       632   0.5 str: 'guppy.etc.etc'\n",
        "     7       48   0.0       680   0.6 str: 'ImpSet'\n",
        "     8       48   0.0       728   0.6 str: 'ImpSet'\n",
        "     9       48   0.0       776   0.7 str: 'UniSet'\n",
        "<4877 more rows. Type e.g. '_.more' to view.>"
       ]
      }
     ],
     "prompt_number": 50
    },
    {
     "cell_type": "code",
     "collapsed": false,
     "input": [
      "byrcs[0].byid[0].theone"
     ],
     "language": "python",
     "metadata": {},
     "outputs": [
      {
       "metadata": {},
       "output_type": "pyout",
       "prompt_number": 51,
       "text": [
        "u'l = list(x for x in range(10000) if x%2 == 0)'"
       ]
      }
     ],
     "prompt_number": 51
    },
    {
     "cell_type": "code",
     "collapsed": false,
     "input": [
      "byrcs[5].byvia"
     ],
     "language": "python",
     "metadata": {},
     "outputs": [
      {
       "metadata": {},
       "output_type": "pyout",
       "prompt_number": 52,
       "text": [
        "Partition of a set of 48 objects. Total size = 13440 bytes.\n",
        " Index  Count   %     Size   % Cumulative  % Referred Via:\n",
        "     0     16  33     4480  33      4480  33 \"['galog']\"\n",
        "     1     16  33     4480  33      8960  67 \"['inters']\"\n",
        "     2     16  33     4480  33     13440 100 \"['salog']\""
       ]
      }
     ],
     "prompt_number": 52
    },
    {
     "cell_type": "code",
     "collapsed": false,
     "input": [],
     "language": "python",
     "metadata": {},
     "outputs": [],
     "prompt_number": 52
    }
   ],
   "metadata": {}
  }
 ]
}