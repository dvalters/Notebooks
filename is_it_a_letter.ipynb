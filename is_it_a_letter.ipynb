{
 "metadata": {
  "name": "",
  "signature": "sha256:1e5fa1749e1f272f548da469671337f0162d6fc4dd948e0cd7268d4bb4fb3ec6"
 },
 "nbformat": 3,
 "nbformat_minor": 0,
 "worksheets": [
  {
   "cells": [
    {
     "cell_type": "code",
     "collapsed": false,
     "input": [
      "chinese_string = u'\u4e2d\u6587\u3002'\n",
      "\n",
      "for char in chinese_string: print char, char.isalpha()\n",
      "    "
     ],
     "language": "python",
     "metadata": {},
     "outputs": [
      {
       "output_type": "stream",
       "stream": "stdout",
       "text": [
        "\u4e2d True\n",
        "\u6587 True\n",
        "\u3002 False\n"
       ]
      }
     ],
     "prompt_number": 15
    },
    {
     "cell_type": "code",
     "collapsed": false,
     "input": [
      "# German\n",
      "german_string = u'\u201eHallo! Gr\u00fc\u00df dich!\u201c'\n",
      "\n",
      "for char in german_string: print char, char.isalpha()"
     ],
     "language": "python",
     "metadata": {},
     "outputs": [
      {
       "output_type": "stream",
       "stream": "stdout",
       "text": [
        "\u201e False\n",
        "H True\n",
        "a True\n",
        "l True\n",
        "l True\n",
        "o True\n",
        "! False\n",
        "  False\n",
        "G True\n",
        "r True\n",
        "\u00fc True\n",
        "\u00df True\n",
        "  False\n",
        "d True\n",
        "i True\n",
        "c True\n",
        "h True\n",
        "! False\n",
        "\u201c False\n"
       ]
      }
     ],
     "prompt_number": 13
    },
    {
     "cell_type": "code",
     "collapsed": false,
     "input": [
      "# Korean\n",
      "korean_string = u'\uc0ac\uacfc\u00b7\ubc30\u00b7\ubcf5\uc22d\uc544\u00b7\uc218\ubc15\uc740 \ubaa8\ub450 \uacfc\uc77c\uc774\ub2e4.'\n",
      "# Apples, pears, peaches, and watermelons are all fruits\n",
      "\n",
      "\n",
      "for char in korean_string: print char, char.isalpha()"
     ],
     "language": "python",
     "metadata": {},
     "outputs": [
      {
       "output_type": "stream",
       "stream": "stdout",
       "text": [
        "\uc0ac True\n",
        "\uacfc True\n",
        "\u00b7 False\n",
        "\ubc30 True\n",
        "\u00b7 False\n",
        "\ubcf5 True\n",
        "\uc22d True\n",
        "\uc544 True\n",
        "\u00b7 False\n",
        "\uc218 True\n",
        "\ubc15 True\n",
        "\uc740 True\n",
        "  False\n",
        "\ubaa8 True\n",
        "\ub450 True\n",
        "  False\n",
        "\uacfc True\n",
        "\uc77c True\n",
        "\uc774 True\n",
        "\ub2e4 True\n",
        ". False\n"
       ]
      }
     ],
     "prompt_number": 14
    },
    {
     "cell_type": "code",
     "collapsed": false,
     "input": [],
     "language": "python",
     "metadata": {},
     "outputs": []
    }
   ],
   "metadata": {}
  }
 ]
}