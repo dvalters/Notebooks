{
 "metadata": {
  "name": "",
  "signature": "sha256:d1434ff36bd5d10b9d989165a0ebc192d983932a6756dd0311b09eb44b026a46"
 },
 "nbformat": 3,
 "nbformat_minor": 0,
 "worksheets": [
  {
   "cells": [
    {
     "cell_type": "code",
     "collapsed": false,
     "input": [
      "%load_ext memory_profiler\n",
      "# IPython memory profiler extension from the memory_profiler package"
     ],
     "language": "python",
     "metadata": {},
     "outputs": [
      {
       "output_type": "stream",
       "stream": "stdout",
       "text": [
        "The memory_profiler extension is already loaded. To reload it, use:\n",
        "  %reload_ext memory_profiler\n"
       ]
      }
     ],
     "prompt_number": 3
    },
    {
     "cell_type": "code",
     "collapsed": false,
     "input": [
      "import sys\n",
      "import random\n",
      "import string\n",
      "import pympler\n",
      "from dis import dis"
     ],
     "language": "python",
     "metadata": {},
     "outputs": [],
     "prompt_number": 11
    },
    {
     "cell_type": "markdown",
     "metadata": {},
     "source": [
      "We want to figure out the performance (memory use and CPU use of a list comprehension vs a generator approach.)"
     ]
    },
    {
     "cell_type": "code",
     "collapsed": false,
     "input": [
      "# A function to generate a list of random strings\n",
      "def randomword(length):\n",
      "   return ''.join(random.choice(string.lowercase) for i in range(length))"
     ],
     "language": "python",
     "metadata": {},
     "outputs": [],
     "prompt_number": 6
    },
    {
     "cell_type": "code",
     "collapsed": false,
     "input": [
      "def list_ints_comprehension(length):\n",
      "    list_ints = [i for i in range(length)]\n",
      "    list_ints.sort()\n",
      "    return list_ints"
     ],
     "language": "python",
     "metadata": {},
     "outputs": [],
     "prompt_number": 8
    },
    {
     "cell_type": "code",
     "collapsed": false,
     "input": [
      "def list_ints_generator(length):\n",
      "    listgen_ints = sorted(i for i in range(length))\n",
      "    return listgen_ints"
     ],
     "language": "python",
     "metadata": {},
     "outputs": [],
     "prompt_number": 9
    },
    {
     "cell_type": "markdown",
     "metadata": {},
     "source": [
      "# Time\n",
      "Runtime can be measured with the `%timeit` ipython command. Help can be found by entering `%timeit?` in an IPython console"
     ]
    },
    {
     "cell_type": "code",
     "collapsed": false,
     "input": [
      "%timeit list_ints_comprehension(100000)"
     ],
     "language": "python",
     "metadata": {},
     "outputs": [
      {
       "output_type": "stream",
       "stream": "stdout",
       "text": [
        "100 loops, best of 3: 8.74 ms per loop\n"
       ]
      }
     ],
     "prompt_number": 12
    },
    {
     "cell_type": "code",
     "collapsed": false,
     "input": [
      "%timeit list_ints_generator(100000)"
     ],
     "language": "python",
     "metadata": {},
     "outputs": [
      {
       "output_type": "stream",
       "stream": "stdout",
       "text": [
        "100 loops, best of 3: 11.2 ms per loop\n"
       ]
      }
     ],
     "prompt_number": 13
    },
    {
     "cell_type": "markdown",
     "metadata": {},
     "source": [
      "So, as a first approximation, the generator-based function is a bit slower than the list comprehension.\n",
      "Now, with strings:"
     ]
    },
    {
     "cell_type": "code",
     "collapsed": false,
     "input": [
      "def list_strings_comprehension(length):\n",
      "    list_strings = [randomword(5) for i in range(length)]\n",
      "    list_strings.sort()\n",
      "    return list_strings\n",
      "\n",
      "def list_strings_generator(length):\n",
      "    listgen_strings = sorted(randomword(5) for i in range(length))\n",
      "    return listgen_strings"
     ],
     "language": "python",
     "metadata": {},
     "outputs": [],
     "prompt_number": 15
    },
    {
     "cell_type": "code",
     "collapsed": false,
     "input": [
      "%timeit list_ints_comprehension(1000000)"
     ],
     "language": "python",
     "metadata": {},
     "outputs": [
      {
       "output_type": "stream",
       "stream": "stdout",
       "text": [
        "10 loops, best of 3: 98 ms per loop\n"
       ]
      }
     ],
     "prompt_number": 20
    },
    {
     "cell_type": "code",
     "collapsed": false,
     "input": [
      "%timeit list_ints_generator(1000000)"
     ],
     "language": "python",
     "metadata": {},
     "outputs": [
      {
       "output_type": "stream",
       "stream": "stdout",
       "text": [
        "10 loops, best of 3: 130 ms per loop\n"
       ]
      }
     ],
     "prompt_number": 21
    },
    {
     "cell_type": "markdown",
     "metadata": {},
     "source": [
      "## Memory\n",
      "First we're going to use the built in `sys.getsizeof()`"
     ]
    },
    {
     "cell_type": "code",
     "collapsed": false,
     "input": [
      "listy = list_strings_comprehension(8)\n",
      "print \"Eight Listy: \", sys.getsizeof(listy)\n",
      "\n",
      "genny = list_strings_generator(8)\n",
      "print \"Eight Genny: \", sys.getsizeof(genny)"
     ],
     "language": "python",
     "metadata": {},
     "outputs": [
      {
       "output_type": "stream",
       "stream": "stdout",
       "text": [
        "Eight Listy:  136\n",
        "Eight Genny:  168\n"
       ]
      }
     ],
     "prompt_number": 37
    },
    {
     "cell_type": "code",
     "collapsed": false,
     "input": [
      "listy = list_strings_comprehension(10)\n",
      "print \"Ten Listy: \", sys.getsizeof(listy)\n",
      "\n",
      "genny = list_strings_generator(10)\n",
      "print \"Ten Genny: \", sys.getsizeof(genny)"
     ],
     "language": "python",
     "metadata": {},
     "outputs": [
      {
       "output_type": "stream",
       "stream": "stdout",
       "text": [
        "Ten Listy:  200\n",
        "Ten Genny:  168\n"
       ]
      }
     ],
     "prompt_number": 38
    },
    {
     "cell_type": "code",
     "collapsed": false,
     "input": [
      "listy = list_strings_comprehension(100)\n",
      "print \"Small Listy: \", sys.getsizeof(listy)\n",
      "\n",
      "genny = list_strings_generator(100)\n",
      "print \"Small Genny: \", sys.getsizeof(genny)"
     ],
     "language": "python",
     "metadata": {},
     "outputs": [
      {
       "output_type": "stream",
       "stream": "stdout",
       "text": [
        "Small Listy:  920\n",
        "Small Genny:  992\n"
       ]
      }
     ],
     "prompt_number": 39
    },
    {
     "cell_type": "code",
     "collapsed": false,
     "input": [
      "listy = list_strings_comprehension(1000)\n",
      "print \"Medium Listy: \", sys.getsizeof(listy)\n",
      "\n",
      "genny = list_strings_generator(1000)\n",
      "print \"Medium Genny: \", sys.getsizeof(genny)"
     ],
     "language": "python",
     "metadata": {},
     "outputs": [
      {
       "output_type": "stream",
       "stream": "stdout",
       "text": [
        "Medium Listy:  9032\n",
        "Medium Genny:  8552\n"
       ]
      }
     ],
     "prompt_number": 40
    },
    {
     "cell_type": "code",
     "collapsed": false,
     "input": [
      "listy = list_strings_comprehension(1000000)\n",
      "print \"Big Listy: \", sys.getsizeof(listy)\n",
      "\n",
      "genny = list_strings_generator(1000000)\n",
      "print \"Big Genny: \", sys.getsizeof(genny)"
     ],
     "language": "python",
     "metadata": {},
     "outputs": [
      {
       "output_type": "stream",
       "stream": "stdout",
       "text": [
        "Big Listy:  8697472\n",
        "Big Genny: "
       ]
      },
      {
       "output_type": "stream",
       "stream": "stdout",
       "text": [
        " 8250176\n"
       ]
      }
     ],
     "prompt_number": 26
    },
    {
     "cell_type": "markdown",
     "metadata": {},
     "source": [
      "Interesting (tbc.. I think this is something to do with how lists are allocated in python?)"
     ]
    },
    {
     "cell_type": "markdown",
     "metadata": {},
     "source": [
      "## pympler asizeof()\n",
      "`asizeof()` is supposedly a bit more accurate at getting the true size of Python objects."
     ]
    },
    {
     "cell_type": "code",
     "collapsed": false,
     "input": [
      "from pympler import asizeof\n",
      "\n",
      "listy = list_strings_comprehension(1000)\n",
      "print \"Medium Listy: \", asizeof.asizeof(listy)\n",
      "\n",
      "genny = list_strings_generator(1000)\n",
      "print \"Medium Genny: \", asizeof.asizeof(genny)"
     ],
     "language": "python",
     "metadata": {},
     "outputs": [
      {
       "output_type": "stream",
       "stream": "stdout",
       "text": [
        " Medium Listy:  57032\n",
        "Medium Genny:  56552\n"
       ]
      }
     ],
     "prompt_number": 46
    },
    {
     "cell_type": "code",
     "collapsed": false,
     "input": [
      "listy = list_strings_comprehension(100000)\n",
      "print \"Big Listy: \", asizeof.asizeof(listy)\n",
      "\n",
      "genny = list_strings_generator(100000)\n",
      "print \"Big Genny: \", asizeof.asizeof(genny)"
     ],
     "language": "python",
     "metadata": {},
     "outputs": [
      {
       "output_type": "stream",
       "stream": "stdout",
       "text": [
        "Big Listy:  "
       ]
      },
      {
       "output_type": "stream",
       "stream": "stdout",
       "text": [
        "5624472\n",
        "Big Genny: "
       ]
      },
      {
       "output_type": "stream",
       "stream": "stdout",
       "text": [
        " 5679848\n"
       ]
      }
     ],
     "prompt_number": 47
    },
    {
     "cell_type": "code",
     "collapsed": false,
     "input": [
      "listy = list_strings_comprehension(1000000)\n",
      "print \"Million Listy: \", asizeof.asizeof(listy)\n",
      "\n",
      "genny = list_strings_generator(1000000)\n",
      "print \"Million Genny: \", asizeof.asizeof(genny)"
     ],
     "language": "python",
     "metadata": {},
     "outputs": [
      {
       "output_type": "stream",
       "stream": "stdout",
       "text": [
        "Million Listy:  "
       ]
      },
      {
       "output_type": "stream",
       "stream": "stdout",
       "text": [
        "56697472\n",
        "Million Genny: "
       ]
      },
      {
       "output_type": "stream",
       "stream": "stdout",
       "text": [
        " 56250176\n"
       ]
      }
     ],
     "prompt_number": 57
    },
    {
     "cell_type": "markdown",
     "metadata": {},
     "source": [
      "## memory_profiler %memit\n",
      "memory_profiler is an alternative to pympler"
     ]
    },
    {
     "cell_type": "code",
     "collapsed": false,
     "input": [
      "import gc\n",
      "gc.collect()\n",
      "%memit -i 0.000001 list_strings_comprehension(1000000)"
     ],
     "language": "python",
     "metadata": {},
     "outputs": [
      {
       "output_type": "stream",
       "stream": "stdout",
       "text": [
        "peak memory: 230.33 MiB, increment: 48.00 MiB\n"
       ]
      }
     ],
     "prompt_number": 64
    },
    {
     "cell_type": "code",
     "collapsed": false,
     "input": [
      "gc.collect()\n",
      "%memit -i 0.000001 list_strings_generator(1000000)"
     ],
     "language": "python",
     "metadata": {},
     "outputs": [
      {
       "output_type": "stream",
       "stream": "stdout",
       "text": [
        "peak memory: 233.61 MiB, increment: 51.27 MiB\n"
       ]
      }
     ],
     "prompt_number": 65
    },
    {
     "cell_type": "markdown",
     "metadata": {},
     "source": [
      "Pympler's `asizeof()` says the list comprehension is bigger, memory_profiler says the generator sees the bigger memory footprint...TBC"
     ]
    },
    {
     "cell_type": "code",
     "collapsed": false,
     "input": [],
     "language": "python",
     "metadata": {},
     "outputs": []
    }
   ],
   "metadata": {}
  }
 ]
}